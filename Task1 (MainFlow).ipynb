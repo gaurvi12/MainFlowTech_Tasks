{
 "cells": [
  {
   "cell_type": "code",
   "execution_count": null,
   "id": "19bda6b1",
   "metadata": {},
   "outputs": [],
   "source": [
    "import pandas as pd"
   ]
  },
  {
   "cell_type": "code",
   "execution_count": 1,
   "id": "6e002e08",
   "metadata": {},
   "outputs": [
    {
     "name": "stdout",
     "output_type": "stream",
     "text": [
      "Updated list:  [10, 3, 'Hello', 4, 5, 6]\n"
     ]
    }
   ],
   "source": [
    "#creating a list \n",
    "my_list = [1,2,3,4,5]\n",
    "\n",
    "#adding an element to the list \n",
    "my_list.append(6)\n",
    "\n",
    "#removing an element from the list \n",
    "my_list.remove(2)\n",
    "\n",
    "#modifying an element in the list\n",
    "my_list[0] = 10\n",
    "\n",
    "#inserting an element in our list\n",
    "my_list.insert(2, \"Hello\")\n",
    "\n",
    "print(\"Updated list: \", my_list)"
   ]
  },
  {
   "cell_type": "code",
   "execution_count": 6,
   "id": "feedf7a3",
   "metadata": {},
   "outputs": [
    {
     "name": "stdout",
     "output_type": "stream",
     "text": [
      "Updated Tuple:  (1, 5, 3)\n"
     ]
    }
   ],
   "source": [
    "#Original Tuple\n",
    "original_tuple = (1,2,3)\n",
    "\n",
    "#adding a new element to the tuple\n",
    "new_element = 4\n",
    "updated_tuple = original_tuple + (new_element,)\n",
    "\n",
    "#removing an element from the tuple\n",
    "updated_tuple = original_tuple[:1] + original_tuple[2:]\n",
    "\n",
    "#Modifying an element in the element\n",
    "modified_element = 5\n",
    "updated_tuple = original_tuple[:1] + (modified_element,) + original_tuple[2:]\n",
    "\n",
    "print(\"Updated Tuple: \", updated_tuple)"
   ]
  },
  {
   "cell_type": "code",
   "execution_count": 8,
   "id": "87564f90",
   "metadata": {},
   "outputs": [
    {
     "name": "stdout",
     "output_type": "stream",
     "text": [
      "Updated Tuple: (1, 2, 4)\n"
     ]
    }
   ],
   "source": [
    "my_tuple = (1,2,3,4)\n",
    "\n",
    "#add_tuple\n",
    "update_tuple = my_tuple[:2] + my_tuple[3:]\n",
    "\n",
    "print(\"Updated Tuple:\", update_tuple)"
   ]
  },
  {
   "cell_type": "code",
   "execution_count": 2,
   "id": "d10f3e80",
   "metadata": {},
   "outputs": [
    {
     "name": "stdout",
     "output_type": "stream",
     "text": [
      "Updated Dictionary:  {'name': 'Aena', 'city': 'Faridabad', 'gender': 'Female'}\n"
     ]
    }
   ],
   "source": [
    "#creating a dictionary\n",
    "my_dict = {'name': 'Aena', 'age': 13, 'city': 'Delhi'}\n",
    "\n",
    "#adding a key-value pair to a dictionary\n",
    "my_dict['gender'] = 'Female'\n",
    "\n",
    "#removing a key-value pair from the dictionary\n",
    "del my_dict['age']\n",
    "\n",
    "#modifying a value in the dictionary\n",
    "my_dict['city']= 'Faridabad'\n",
    "\n",
    "print(\"Updated Dictionary: \", my_dict)"
   ]
  }
 ],
 "metadata": {
  "kernelspec": {
   "display_name": "Python 3 (ipykernel)",
   "language": "python",
   "name": "python3"
  },
  "language_info": {
   "codemirror_mode": {
    "name": "ipython",
    "version": 3
   },
   "file_extension": ".py",
   "mimetype": "text/x-python",
   "name": "python",
   "nbconvert_exporter": "python",
   "pygments_lexer": "ipython3",
   "version": "3.9.13"
  }
 },
 "nbformat": 4,
 "nbformat_minor": 5
}
